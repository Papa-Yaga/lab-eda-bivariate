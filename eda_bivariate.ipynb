{
 "cells": [
  {
   "cell_type": "code",
   "execution_count": null,
   "id": "da7bfaee-1b12-43be-aaae-2477ec349f29",
   "metadata": {},
   "outputs": [],
   "source": [
    "# pip install seaborn --upgrade"
   ]
  },
  {
   "cell_type": "code",
   "execution_count": null,
   "id": "c9b68381-bf17-43cc-890d-915c87810f21",
   "metadata": {},
   "outputs": [],
   "source": [
    "import pandas as pd\n",
    "import numpy as np\n",
    "import matplotlib.pyplot as plt\n",
    "import seaborn as sns\n",
    "import statsmodels.api as sm\n",
    "\n",
    "from scipy.stats import chi2_contingency\n",
    "from scipy.stats.contingency import association\n",
    "\n",
    "import warnings\n",
    "\n",
    "warnings.filterwarnings(\"ignore\", category=DeprecationWarning)\n",
    "warnings.filterwarnings(\"ignore\", category=FutureWarning)\n",
    "\n",
    "%matplotlib inline "
   ]
  },
  {
   "cell_type": "code",
   "execution_count": null,
   "id": "30c6b76c-a4ea-4fb4-8f5f-5659c5407411",
   "metadata": {},
   "outputs": [],
   "source": [
    "data = r\"amz_uk_price_prediction_dataset.csv\"\n",
    "amz_data = pd.read_csv(data)"
   ]
  },
  {
   "cell_type": "code",
   "execution_count": null,
   "id": "316e18d5-48fe-4140-bae3-2f94b2c2c8f2",
   "metadata": {},
   "outputs": [],
   "source": [
    "amz_data.head(3)"
   ]
  },
  {
   "cell_type": "code",
   "execution_count": null,
   "id": "4ef1c7cc-2d42-4dcc-8a5f-ad8b218afa39",
   "metadata": {},
   "outputs": [],
   "source": [
    "crosstab_results = pd.crosstab(amz_data[\"category\"], amz_data[\"isBestSeller\"])"
   ]
  },
  {
   "cell_type": "code",
   "execution_count": null,
   "id": "e594922a-750c-4da6-9241-9d9086e7eb2f",
   "metadata": {},
   "outputs": [],
   "source": [
    "crosstab_results.sort_values(by=True, ascending=False)"
   ]
  },
  {
   "cell_type": "code",
   "execution_count": null,
   "id": "1986c146-dea3-4422-92ca-467fce6a847d",
   "metadata": {},
   "outputs": [],
   "source": [
    "crosstab_results[crosstab_results[True]>crosstab_results[False]]"
   ]
  },
  {
   "cell_type": "code",
   "execution_count": null,
   "id": "fb2f5605-a770-48d6-94ac-22dfacee41bf",
   "metadata": {},
   "outputs": [],
   "source": [
    "chi2_statistic, chi2_p_value, _, _ = chi2_contingency(crosstab_results)\n",
    "chi2_statistic, chi2_p_value"
   ]
  },
  {
   "cell_type": "code",
   "execution_count": null,
   "id": "49f68aea-bef8-4ca7-8e5d-dac4b2d3ef44",
   "metadata": {},
   "outputs": [],
   "source": [
    "round(association(crosstab_results, method=\"cramer\"),3)"
   ]
  },
  {
   "cell_type": "code",
   "execution_count": null,
   "id": "661cd5b0-d65b-4cc2-aa05-946c26dcc499",
   "metadata": {},
   "outputs": [],
   "source": [
    "crosstab_results.plot(kind=\"bar\", stacked=True)\n",
    "plt.figure(figsize=(10,6))"
   ]
  },
  {
   "cell_type": "code",
   "execution_count": null,
   "id": "846d1826-9d4b-47b3-b02b-9fd324de55c3",
   "metadata": {},
   "outputs": [],
   "source": [
    "low_q = amz_data[\"price\"].quantile(0.25)\n",
    "high_q = amz_data[\"price\"].quantile(0.75)\n",
    "IQR = high_q - low_q"
   ]
  },
  {
   "cell_type": "code",
   "execution_count": null,
   "id": "4e64ff79-4879-4535-a3d3-f2d7c30110b1",
   "metadata": {},
   "outputs": [],
   "source": [
    "pot_outliers = amz_data[(amz_data[\"price\"]>high_q+1.5*IQR) | (amz_data[\"price\"]<low_q-1.5*IQR)]\n",
    "data_removed = amz_data[~amz_data.isin(pot_outliers)]"
   ]
  },
  {
   "cell_type": "code",
   "execution_count": null,
   "id": "3c01c158-444b-4334-b5fb-19900ce8df61",
   "metadata": {},
   "outputs": [],
   "source": [
    "head20 = data_removed.groupby([\"category\"])[\"price\"].count().sort_values(ascending=False).head(20).to_frame()\n",
    "head20 = data_removed[data_removed[\"category\"].isin(head20.index)]\n",
    "head10 = data_removed.groupby([\"category\"])[\"price\"].count().sort_values(ascending=False).head(10).to_frame()\n",
    "head10 = data_removed[data_removed[\"category\"].isin(head10.index)]"
   ]
  },
  {
   "cell_type": "code",
   "execution_count": null,
   "id": "9795e865-ed93-4354-a2fe-4a891dc6daa6",
   "metadata": {},
   "outputs": [],
   "source": [
    "sns.violinplot(head20, x=\"price\", y=\"category\")"
   ]
  },
  {
   "cell_type": "code",
   "execution_count": null,
   "id": "f9e2bc9f-26ec-403f-8175-a14114b5ea88",
   "metadata": {},
   "outputs": [],
   "source": [
    "# head20.groupby([\"category\"])[\"price\"].median().sort_values(ascending=False)"
   ]
  },
  {
   "cell_type": "code",
   "execution_count": null,
   "id": "eea17566-b73d-4914-9d6b-dd1afd4dc8ce",
   "metadata": {},
   "outputs": [],
   "source": [
    "head10_means = head10.groupby([\"category\"])[\"price\"].mean().to_frame()"
   ]
  },
  {
   "cell_type": "code",
   "execution_count": null,
   "id": "0603b020-c95b-4213-9814-67feac844564",
   "metadata": {},
   "outputs": [],
   "source": [
    "plt.xticks(rotation=90)\n",
    "sns.barplot(head10_means.sort_values(by=\"price\", ascending=False), x=head10_means.index, y=\"price\", palette=\"mako\")"
   ]
  },
  {
   "cell_type": "code",
   "execution_count": null,
   "id": "781c9f5e-1baf-4256-aaa9-2933f88bc5ce",
   "metadata": {},
   "outputs": [],
   "source": [
    "plt.xticks(rotation=90)\n",
    "sns.boxplot(head10, x=\"category\", y=\"stars\")"
   ]
  },
  {
   "cell_type": "code",
   "execution_count": null,
   "id": "78e41eb4-f940-4349-9004-b5a52f82b2ab",
   "metadata": {},
   "outputs": [],
   "source": [
    "correlation = data_removed[\"price\"].corr(data_removed[\"stars\"])\n",
    "correlation.round(3)"
   ]
  },
  {
   "cell_type": "markdown",
   "id": "8135388f-d7f5-41cc-829a-c7adf3ef6854",
   "metadata": {},
   "source": [
    "**There is no relevant correlation**"
   ]
  },
  {
   "cell_type": "code",
   "execution_count": null,
   "id": "7a5db1ce-0bfc-48c6-9135-112e7cff8ac2",
   "metadata": {},
   "outputs": [],
   "source": [
    "sns.scatterplot(data_removed, x=\"stars\", y=\"price\")"
   ]
  },
  {
   "cell_type": "code",
   "execution_count": null,
   "id": "5bea615d-c7ee-417f-9587-bad61651c5fa",
   "metadata": {},
   "outputs": [],
   "source": [
    "data_numerical = data_removed.select_dtypes(\"number\")\n",
    "correlation_matrix = data_numerical.corr()"
   ]
  },
  {
   "cell_type": "code",
   "execution_count": null,
   "id": "d760b5be-5003-4f4d-b4ba-86817b6d2a71",
   "metadata": {},
   "outputs": [],
   "source": [
    "sns.heatmap(correlation_matrix, annot=True, cmap=\"gray\")"
   ]
  },
  {
   "cell_type": "code",
   "execution_count": null,
   "id": "978b4101-cf76-49fd-b77c-f82d41c36fa9",
   "metadata": {},
   "outputs": [],
   "source": [
    "sm.qqplot(data_removed[\"price\"], line=\"s\")"
   ]
  }
 ],
 "metadata": {
  "kernelspec": {
   "display_name": "Python 3 (ipykernel)",
   "language": "python",
   "name": "python3"
  },
  "language_info": {
   "codemirror_mode": {
    "name": "ipython",
    "version": 3
   },
   "file_extension": ".py",
   "mimetype": "text/x-python",
   "name": "python",
   "nbconvert_exporter": "python",
   "pygments_lexer": "ipython3",
   "version": "3.11.7"
  }
 },
 "nbformat": 4,
 "nbformat_minor": 5
}
